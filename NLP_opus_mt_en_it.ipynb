{
 "cells": [
  {
   "cell_type": "code",
   "execution_count": 1,
   "metadata": {},
   "outputs": [],
   "source": [
    "try:\n",
    "    from transformers import AutoTokenizer, AutoModelForSeq2SeqLM\n",
    "except:\n",
    "    !pip install transformers\n",
    "finally:\n",
    "    from transformers import AutoTokenizer, AutoModelForSeq2SeqLM\n",
    "\n",
    "# These steps are used to either import the transformers library, if already installed in the system, or to install it and then\n",
    "# import."
   ]
  },
  {
   "cell_type": "code",
   "execution_count": 2,
   "metadata": {},
   "outputs": [],
   "source": [
    "tokenizer = AutoTokenizer.from_pretrained(\"Helsinki-NLP/opus-mt-en-it\")\n",
    "# This step loads the pre-trained tokenizer Helsinki-NLP/opus-mt-en-it form AutoTokenizer. Tokenizer is used to break a sentence\n",
    "# (string) into chunks of numerical value, so that the sytsem and model can usnderstand them (as models and system do not \n",
    "# understand strings). We can train a tokenizer of our own using a customer vocabulary (set of words), but it will be highly\n",
    "# time consuming and not much beneficial as a pre-trained one like this can be used for a general use case.\n",
    "\n",
    "model = AutoModelForSeq2SeqLM.from_pretrained(\"Helsinki-NLP/opus-mt-en-it\")\n",
    "# We are loading the model for Helsinki-NLP/opus-mt-en-it from AutoModelForSeq2SeqLM. This is again a pre-trained model which \n",
    "# has been trained on the tokens from the above tokenizer. One can train a custom model as well, if required."
   ]
  },
  {
   "cell_type": "code",
   "execution_count": 3,
   "metadata": {},
   "outputs": [
    {
     "name": "stderr",
     "output_type": "stream",
     "text": [
      "C:\\Users\\haror\\AppData\\Roaming\\Python\\Python37\\site-packages\\transformers\\tokenization_utils_base.py:3365: FutureWarning: \n",
      "`prepare_seq2seq_batch` is deprecated and will be removed in version 5 of HuggingFace Transformers. Use the regular\n",
      "`__call__` method to prepare your inputs and the tokenizer under the `as_target_tokenizer` context manager to prepare\n",
      "your targets.\n",
      "\n",
      "Here is a short example:\n",
      "\n",
      "model_inputs = tokenizer(src_texts, ...)\n",
      "with tokenizer.as_target_tokenizer():\n",
      "    labels = tokenizer(tgt_texts, ...)\n",
      "model_inputs[\"labels\"] = labels[\"input_ids\"]\n",
      "\n",
      "See the documentation of your specific tokenizer for more details on the specific arguments to the tokenizer of choice.\n",
      "For a more complete example, see the implementation of `prepare_seq2seq_batch`.\n",
      "\n",
      "  warnings.warn(formatted_warning, FutureWarning)\n"
     ]
    },
    {
     "name": "stdout",
     "output_type": "stream",
     "text": [
      "<pad> Perche' e' cosi' veloce?\n"
     ]
    }
   ],
   "source": [
    "text ='How is this so fast?'\n",
    "# We are passing the sample text to be translated.\n",
    "\n",
    "tokenized_text = tokenizer.prepare_seq2seq_batch([text], return_tensors='pt')\n",
    "# This step generates 2 outputs, input_ids and attention_mask. input_ids are the indices corresponding to each token in the \n",
    "# sentence while the attention_mask indicates whether a token should be attended to or not. The return_tensors parameter is set \n",
    "# to pt for PyTorch, thus returning the actual tensors that are fed to the model.\n",
    "\n",
    "translation = model.generate(**tokenized_text)\n",
    "# This output is a sequence of the generated sequences of tokens.\n",
    "\n",
    "translated_text = tokenizer.batch_decode(translation, skip_special_tokens=False)[0]\n",
    "# The batch_decode takes as input the list of lists of token ids geenrated by the model.generate() function and \n",
    "# converts them into a list of strings by calling decode. The [0] is used at the end to access the first index of the output \n",
    "# list.\n",
    "\n",
    "print(translated_text)"
   ]
  },
  {
   "cell_type": "code",
   "execution_count": 4,
   "metadata": {},
   "outputs": [
    {
     "name": "stdout",
     "output_type": "stream",
     "text": [
      "Please input the sentence you want to translate:\n",
      "Amazing buddy!!!\n",
      "The translated sentecne in Italian is:\n",
      " <pad> Amico incredibile!!!\n"
     ]
    }
   ],
   "source": [
    "sentence = input(\"Please input the sentence you want to translate:\\n\")\n",
    "tokenized_text = tokenizer.prepare_seq2seq_batch([sentence], return_tensors='pt')\n",
    "translation = model.generate(**tokenized_text)\n",
    "translated_text = tokenizer.batch_decode(translation, skip_special_tokens=False)[0]\n",
    "print(\"The translated sentecne in Italian is:\\n\",translated_text)"
   ]
  }
 ],
 "metadata": {
  "kernelspec": {
   "display_name": "Python 3",
   "language": "python",
   "name": "python3"
  },
  "language_info": {
   "codemirror_mode": {
    "name": "ipython",
    "version": 3
   },
   "file_extension": ".py",
   "mimetype": "text/x-python",
   "name": "python",
   "nbconvert_exporter": "python",
   "pygments_lexer": "ipython3",
   "version": "3.9.5"
  }
 },
 "nbformat": 4,
 "nbformat_minor": 4
}
